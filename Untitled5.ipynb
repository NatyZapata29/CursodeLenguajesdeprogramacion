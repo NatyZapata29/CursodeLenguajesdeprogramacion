{
  "nbformat": 4,
  "nbformat_minor": 0,
  "metadata": {
    "colab": {
      "provenance": [],
      "authorship_tag": "ABX9TyNnIleVmxPvh1L9aoYr5TZr",
      "include_colab_link": true
    },
    "kernelspec": {
      "name": "python3",
      "display_name": "Python 3"
    },
    "language_info": {
      "name": "python"
    }
  },
  "cells": [
    {
      "cell_type": "markdown",
      "metadata": {
        "id": "view-in-github",
        "colab_type": "text"
      },
      "source": [
        "<a href=\"https://colab.research.google.com/github/NatyZapata29/CursodeLenguajesdeprogramacion/blob/main/Untitled5.ipynb\" target=\"_parent\"><img src=\"https://colab.research.google.com/assets/colab-badge.svg\" alt=\"Open In Colab\"/></a>"
      ]
    },
    {
      "cell_type": "code",
      "execution_count": null,
      "metadata": {
        "id": "HK2gGaAST6FE"
      },
      "outputs": [],
      "source": []
    },
    {
      "cell_type": "markdown",
      "source": [
        "**taller #2**\n",
        "\n",
        "Eres parte del equipo de análisis financiero de una empresa que gestiona portafolios de inversión para varios clientes. Debes desarrollar un script en Python para ayudar a la empresa a gestionar información sobre las inversiones de los clientes y generar informes sobre el rendimiento de sus portafolios.\n",
        "\n",
        "**Parte 1:Declaración de Variables y Listas**\n",
        "\n",
        "**Datos de Inversión Inicial**\n",
        "\n",
        "Clientes: Juan Perez, Maria Rodriguez, Carlos Lopez, Ana Gomez\n",
        "\n",
        "Montos invertidos (en dólares): 10000, 15000, 20000, 18000\n",
        "\n",
        "Rendimientos anuales (%): 5.5, 6.0, 4.0, 7.5\n",
        "\n",
        "**Tarea:**\n",
        "\n",
        "Declara una lista llamada clientes, una lista llamada montos_invertidos y una lista llamada rendimientos con los datos proporcionados.\n",
        "La empresa ha recopilado los siguientes datos sobre cuatro clientes:"
      ],
      "metadata": {
        "id": "QkleR57KZf7c"
      }
    },
    {
      "cell_type": "markdown",
      "source": [],
      "metadata": {
        "id": "mcVNVh37o73f"
      }
    },
    {
      "cell_type": "code",
      "source": [
        "clientes = [\"Juan Perez\", \"Maria Rodriguez\", \"Carlos Lopez\", \"Ana Gomez\"]\n",
        "montos_invertidos = [10000, 15000, 20000, 18000]\n",
        "rendimientos = [5.5,6.0,4.0,7.5]\n",
        "\n",
        "print(\"tipo de 'clientes':\", type(clientes))\n",
        "print(\"Tipo de 'montos_invertidos':\", type(montos_invertidos))\n",
        "print(\"Tipo de 'rendimientos':\", type(rendimientos))"
      ],
      "metadata": {
        "colab": {
          "base_uri": "https://localhost:8080/"
        },
        "id": "Tm7djIWYoOEV",
        "outputId": "35ff4a00-2a88-4140-bd2b-554327fd94f1"
      },
      "execution_count": 5,
      "outputs": [
        {
          "output_type": "stream",
          "name": "stdout",
          "text": [
            "tipo de 'clientes': <class 'list'>\n",
            "Tipo de 'montos_invertidos': <class 'list'>\n",
            "Tipo de 'rendimientos': <class 'list'>\n"
          ]
        }
      ]
    },
    {
      "cell_type": "markdown",
      "source": [
        "**1.Crear Tuplas para Almacenar la Información**\n",
        "\n",
        "Crea una tupla para cada cliente que contenga su nombre, monto invertido y rendimiento.\n",
        "\n",
        "**Tarea:**\n",
        "Crea cuatro tuplas llamadas cliente_1, cliente_2, cliente_3 y cliente_4, donde cada tupla contenga los datos de un cliente."
      ],
      "metadata": {
        "id": "SP8z7jU5tmQK"
      }
    },
    {
      "cell_type": "code",
      "source": [
        "cliente_1 = (clientes[0], montos_invertidos[0], rendimientos[0])\n",
        "cliente_2 = (clientes[1], montos_invertidos[1], rendimientos[1])\n",
        "cliente_3 = (clientes[2], montos_invertidos[2], rendimientos[2])\n",
        "cliente_4 = (clientes[3], montos_invertidos[3], rendimientos[3])\n",
        "\n",
        "print(cliente_1)\n",
        "print(cliente_2)\n",
        "print(cliente_3)\n",
        "print(cliente_4)"
      ],
      "metadata": {
        "colab": {
          "base_uri": "https://localhost:8080/"
        },
        "id": "VkwKXOHet1Tp",
        "outputId": "d866c6d5-2ccd-4d28-dd09-68a7ce082945"
      },
      "execution_count": 7,
      "outputs": [
        {
          "output_type": "stream",
          "name": "stdout",
          "text": [
            "('Juan Perez', 10000, 5.5)\n",
            "('Maria Rodriguez', 15000, 6.0)\n",
            "('Carlos Lopez', 20000, 4.0)\n",
            "('Ana Gomez', 18000, 7.5)\n"
          ]
        }
      ]
    },
    {
      "cell_type": "markdown",
      "source": [
        "**Parte 2: Uso de Diccionarios y Condicionales**\n",
        "\n",
        "\n",
        "Almacenar los Datos en un Diccionario\n",
        "Almacena los datos de los clientes en un diccionario llamado portafolio. En este diccionario, cada clave debe ser el nombre del cliente, y cada valor será un diccionario que contenga el monto_invertido y el rendimiento.\n",
        "\n",
        "**Tarea:**\n",
        "Declara el diccionario portafolio con los datos proporcionados."
      ],
      "metadata": {
        "id": "jkTFlkJst9Su"
      }
    },
    {
      "cell_type": "code",
      "source": [
        "portafolio = {\n",
        "    \"Juan Perez\": {\"monto_invertido\": 10000, \"rendimiento\": 5.5},\n",
        "    \"Maria Rodriguez\": {\"monto_invertido\": 15000, \"rendimiento\": 6.0},\n",
        "    \"Carlos Lopez\": {\"monto_invertido\": 20000, \"rendimiento\": 4.0},\n",
        "    \"Ana Gomez\": {\"monto_invertido\": 18000, \"rendimiento\":7.5}\n",
        "}\n",
        "\n",
        "print(portafolio)"
      ],
      "metadata": {
        "colab": {
          "base_uri": "https://localhost:8080/"
        },
        "id": "rVvvHJcGuGBG",
        "outputId": "94884d5e-4899-4feb-8520-ec00c8178369"
      },
      "execution_count": 8,
      "outputs": [
        {
          "output_type": "stream",
          "name": "stdout",
          "text": [
            "{'Juan Perez': {'monto_invertido': 10000, 'rendimiento': 5.5}, 'Maria Rodriguez': {'monto_invertido': 15000, 'rendimiento': 6.0}, 'Carlos Lopez': {'monto_invertido': 20000, 'rendimiento': 4.0}, 'Ana Gomez': {'monto_invertido': 18000, 'rendimiento': 7.5}}\n"
          ]
        }
      ]
    },
    {
      "cell_type": "markdown",
      "source": [
        "**Evaluación del Rendimiento de los Clientes**\n",
        "\n",
        "La empresa quiere identificar qué clientes han tenido un rendimiento superior al 5%.\n",
        "\n",
        "**Tarea:**\n",
        "\n",
        "Utiliza un ciclo for y una condicional if para recorrer el diccionario portafolio. Imprime el nombre y el rendimiento de aquellos clientes cuyo rendimiento sea mayor al 5%."
      ],
      "metadata": {
        "id": "KNKiU50guRhG"
      }
    },
    {
      "cell_type": "code",
      "source": [
        "print(\"Clientes con rendimiento mayor al 5%:\")\n",
        "for cliente, datos in portafolio.items():\n",
        "    if datos[\"rendimiento\"] > 5:\n",
        "        print(f\"{cliente} tiene un rendimiento de {datos['rendimiento']}%\")"
      ],
      "metadata": {
        "colab": {
          "base_uri": "https://localhost:8080/"
        },
        "id": "JEeE6T1UwAUo",
        "outputId": "03623013-a6ba-48b4-de12-3b3ec12614b1"
      },
      "execution_count": 14,
      "outputs": [
        {
          "output_type": "stream",
          "name": "stdout",
          "text": [
            "Clientes con rendimiento mayor al 5%:\n",
            "Juan Perez tiene un rendimiento de 5.5%\n",
            "Maria Rodriguez tiene un rendimiento de 6.0%\n",
            "Ana Gomez tiene un rendimiento de 7.5%\n"
          ]
        }
      ]
    },
    {
      "cell_type": "markdown",
      "source": [
        "**Parte 3: Cálculos con Ciclos**\n",
        "\n",
        "**Calcular el Rendimiento Total del Portafolio**\n",
        "\n",
        "La empresa desea calcular el rendimiento total del portafolio, que se define como la suma de todos los rendimientos en dólares.\n",
        "\n",
        "**Tarea:**\n",
        "\n",
        "Usa un ciclo for para calcular el rendimiento total del portafolio. El rendimiento en dólares se calcula como:\n",
        "\n",
        "\n",
        "\n",
        "Al final, imprime el rendimiento total de todos los clientes."
      ],
      "metadata": {
        "id": "mzbkBFgRwRb3"
      }
    },
    {
      "cell_type": "code",
      "source": [
        "rendimiento_total = 0\n",
        "for cliente, datos in portafolio.items():\n",
        "    rendimiento_cliente = (datos[\"monto_invertido\"] * datos[\"rendimiento\"]) / 100\n",
        "    rendimiento_total += rendimiento_cliente\n",
        "    print(f\"\\nEl rendimiento total del portafolio es: ${rendimiento_total:.2f}\")"
      ],
      "metadata": {
        "colab": {
          "base_uri": "https://localhost:8080/"
        },
        "id": "uCIqYZahxvAf",
        "outputId": "3f3808e1-2629-417d-ea0d-b5d9298a1306"
      },
      "execution_count": 21,
      "outputs": [
        {
          "output_type": "stream",
          "name": "stdout",
          "text": [
            "\n",
            "El rendimiento total del portafolio es: $550.00\n",
            "\n",
            "El rendimiento total del portafolio es: $1450.00\n",
            "\n",
            "El rendimiento total del portafolio es: $2250.00\n",
            "\n",
            "El rendimiento total del portafolio es: $3600.00\n"
          ]
        }
      ]
    },
    {
      "cell_type": "markdown",
      "source": [
        "**Identificar al Cliente con Mayor Rendimiento**\n",
        "\n",
        "La empresa necesita saber qué cliente ha obtenido el mayor rendimiento en términos absolutos.\n",
        "\n",
        "**Tarea:**\n",
        "\n",
        "Recorre el diccionario portafolio usando un ciclo for y usa una condicional if para identificar al cliente con el mayor rendimiento absoluto en dólares.\n",
        "\n"
      ],
      "metadata": {
        "id": "SV1ZviPuyP2l"
      }
    },
    {
      "cell_type": "code",
      "source": [
        "mayor_rendimiento = 0\n",
        "cliente_mayor = \"\"\n",
        "\n",
        "for cliente, datos in portafolio.items():\n",
        "    rendimiento_cliente = (datos[\"monto_invertido\"] * datos[\"rendimiento\"]) / 100\n",
        "    if rendimiento_cliente > mayor_rendimiento:\n",
        "        mayor_rendimiento = rendimiento_cliente\n",
        "        cliente_mayor=cliente\n",
        "\n",
        "print(f\"\\nEl cliente con mayor rendimiento es {cliente_mayor} con ${mayor_rendimiento:.2f}\")"
      ],
      "metadata": {
        "colab": {
          "base_uri": "https://localhost:8080/"
        },
        "id": "VsL_RWeMyek9",
        "outputId": "ecc70747-0d69-42a6-cdbd-42248afbe750"
      },
      "execution_count": 22,
      "outputs": [
        {
          "output_type": "stream",
          "name": "stdout",
          "text": [
            "\n",
            "El cliente con mayor rendimiento es Ana Gomez con $1350.00\n"
          ]
        }
      ]
    },
    {
      "cell_type": "markdown",
      "source": [
        "**Parte 4: Modificaciones del Portafolio**\n",
        "\n",
        "Actualizar el Monto Invertido de un Cliente\n",
        "\n",
        "\"Carlos Lopez\" ha decidido aumentar su inversión a 25,000 dólares.\n",
        "\n",
        "**Tarea:**\n",
        "Actualiza el valor de monto_invertido para \"Carlos Lopez\" en el diccionario portafolio."
      ],
      "metadata": {
        "id": "MD2PAMc1I_Jh"
      }
    },
    {
      "cell_type": "code",
      "source": [
        "portafolio[\"Carlos Lopez\"][\"monto_invertido\"] = 25000\n",
        "print(portafolio)"
      ],
      "metadata": {
        "colab": {
          "base_uri": "https://localhost:8080/"
        },
        "id": "bqCZLShDJOjn",
        "outputId": "1d17779b-615d-47da-824c-e8f4515b9b86"
      },
      "execution_count": 26,
      "outputs": [
        {
          "output_type": "stream",
          "name": "stdout",
          "text": [
            "{'Juan Perez': {'monto_invertido': 10000, 'rendimiento': 5.5}, 'Maria Rodriguez': {'monto_invertido': 15000, 'rendimiento': 6.0}, 'Carlos Lopez': {'monto_invertido': 25000, 'rendimiento': 4.0}, 'Ana Gomez': {'monto_invertido': 18000, 'rendimiento': 7.5}}\n"
          ]
        }
      ]
    },
    {
      "cell_type": "markdown",
      "source": [
        "**Añadir un Nuevo Cliente al Portafolio**\n",
        "\n",
        "Un nuevo cliente, \"Laura Fernandez\", ha decidido invertir 22,000 dólares con un rendimiento del 6.8%.\n",
        "\n",
        "**Tarea:**\n",
        "\n",
        "Añade a \"Laura Fernandez\" al diccionario portafolio con los datos proporcionados."
      ],
      "metadata": {
        "id": "C2cCIhzHJ9Qu"
      }
    },
    {
      "cell_type": "code",
      "source": [
        "portafolio[\"Laura Fernandez\"] = {\"monto_invertido\": 22000, \"rendimiento\": 6.8}\n",
        "\n",
        "print(portafolio)"
      ],
      "metadata": {
        "colab": {
          "base_uri": "https://localhost:8080/"
        },
        "id": "7Sapk7EFKJzt",
        "outputId": "630ccb2d-1c65-4217-9aff-b1c442a11ffe"
      },
      "execution_count": 27,
      "outputs": [
        {
          "output_type": "stream",
          "name": "stdout",
          "text": [
            "{'Juan Perez': {'monto_invertido': 10000, 'rendimiento': 5.5}, 'Maria Rodriguez': {'monto_invertido': 15000, 'rendimiento': 6.0}, 'Carlos Lopez': {'monto_invertido': 25000, 'rendimiento': 4.0}, 'Ana Gomez': {'monto_invertido': 18000, 'rendimiento': 7.5}, 'Laura Fernandez': {'monto_invertido': 22000, 'rendimiento': 6.8}}\n"
          ]
        }
      ]
    },
    {
      "cell_type": "markdown",
      "source": [
        "**Remover a un Cliente del Portafolio**\n",
        "\n",
        "\"Ana Gomez\" ha decidido retirar su inversión.\n",
        "\n",
        "**Tarea:**\n",
        "\n",
        "Remueve a \"Ana Gomez\" del diccionario portafolio.  "
      ],
      "metadata": {
        "id": "EGq7fv3uKSJG"
      }
    },
    {
      "cell_type": "code",
      "source": [
        "portafolio.pop(\"Ana Gomez\")\n",
        "\n",
        "print(portafolio)"
      ],
      "metadata": {
        "colab": {
          "base_uri": "https://localhost:8080/"
        },
        "id": "G9qcUWDIKhA1",
        "outputId": "cd00dd5d-d398-4592-e052-db1d4bd19295"
      },
      "execution_count": 28,
      "outputs": [
        {
          "output_type": "stream",
          "name": "stdout",
          "text": [
            "{'Juan Perez': {'monto_invertido': 10000, 'rendimiento': 5.5}, 'Maria Rodriguez': {'monto_invertido': 15000, 'rendimiento': 6.0}, 'Carlos Lopez': {'monto_invertido': 25000, 'rendimiento': 4.0}, 'Laura Fernandez': {'monto_invertido': 22000, 'rendimiento': 6.8}}\n"
          ]
        }
      ]
    }
  ]
}