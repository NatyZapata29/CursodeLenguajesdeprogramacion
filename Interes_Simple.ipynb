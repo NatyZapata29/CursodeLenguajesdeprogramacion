{
  "nbformat": 4,
  "nbformat_minor": 0,
  "metadata": {
    "colab": {
      "provenance": [],
      "authorship_tag": "ABX9TyO90upNtWb42V9ll9I6kgkD",
      "include_colab_link": true
    },
    "kernelspec": {
      "name": "python3",
      "display_name": "Python 3"
    },
    "language_info": {
      "name": "python"
    }
  },
  "cells": [
    {
      "cell_type": "markdown",
      "metadata": {
        "id": "view-in-github",
        "colab_type": "text"
      },
      "source": [
        "<a href=\"https://colab.research.google.com/github/NatyZapata29/CursodeLenguajesdeprogramacion/blob/main/Interes_Simple.ipynb\" target=\"_parent\"><img src=\"https://colab.research.google.com/assets/colab-badge.svg\" alt=\"Open In Colab\"/></a>"
      ]
    },
    {
      "cell_type": "markdown",
      "source": [
        "# **INTERÉS SIMPLE**\n",
        "\n",
        "El interés simple es un tipo de interés calculado sobre la cantidad de dinero inicial invertido en relación al tiempo que dicho dinero permanece en una inversión.\n",
        "\n",
        "No tiene en cuenta el interés compuesto que pueda producirse.\n",
        "\n",
        "Un ejemplo de este tipo de interés es cuando depositas dinero en un banco y, transcurrido un determinado período de tiempo, recibirás de la entidad los beneficios o intereses acordados previamente.\n",
        "\n",
        "# **¿Cuáles son las características del interés simple?**\n",
        "El interés simple es una tasa fija que se aplica solamente al saldo de una inversión o un préstamo, es decir, no se ve afectada por ningún interés acumulado. Se define como simple debido a la manera en cómo se aplica.\n",
        "\n",
        "En otras palabras, el interés simple siempre se aplica al monto original con la misma tasa de interés para cada periodo de tiempo.\n",
        "\n",
        "Este tipo de interés se aplica comúnmente tanto a préstamos a corto plazo como a préstamos de automóviles, pago de hipotecas y personales.\n",
        "\n",
        "\n",
        "\n",
        "## **Cálculo de interés simple**\n",
        "\n",
        " **Datos de entrada**\n",
        "\n",
        "* capital inicial = 20000  # Monto inicial en dólares\n",
        "* tasa_interes = 0.10  # Tasa de interés anual (5%)\n",
        "* tiempo = 5  # Número de años\n",
        "\n",
        "## **Fórmula del interés simple**\n",
        "\n",
        "$$I= C*R*T$$\n",
        "\n",
        "* I = Interés Simple\n",
        "\n",
        "* C = Capital inicial\n",
        "\n",
        "* r = Tasa de interés\n",
        "\n",
        "* t = Tiempo\n",
        "\n",
        "* **Fórmula en Latex :**( dada por la profesora)\n",
        "\n",
        "$$A=P(1+rt)A = P(1 + rt)A=P(1+rt)$$\n",
        "\n",
        "**Donde**\n",
        "\n",
        "*  AAA = Monto final\n",
        "* PPP = Capital inicial\n",
        "* rrr = Tasa de interés\n",
        "* ttt = Tiempo\n",
        "\n",
        "El interés simple es un concepto fundamental en finanzas que se caracteriza por calcular los intereses siempre sobre el capital inicial, sin reinvertirlos. Esto lo diferencia del interés compuesto, donde los intereses generados se suman al capital y generan nuevos intereses.\n",
        "\n",
        "\n",
        "En resumen, el interés simple es una herramienta financiera útil para situaciones específicas, especialmente aquellas que involucran períodos cortos o inversiones conservadoras. Sin embargo, es importante comprender sus limitaciones y compararlo con el interés compuesto para tomar decisiones financieras informadas.\n",
        "\n",
        "\n",
        "\n",
        "\n",
        "<img src=\"https://i.pinimg.com/originals/6d/49/73/6d4973b3cadbff225bc122f1bbce2e66.jpg\" width=\"400\">\n",
        "\n",
        "[referencia](https://www.varsitytutors.com/hotmath/hotmath_help/spanish/topics/simple-interest)\n"
      ],
      "metadata": {
        "id": "d5gc0iD3ITol"
      }
    },
    {
      "cell_type": "markdown",
      "source": [
        "#**EJERCICIO DE INTERÉS SIMPLE**\n",
        "¿Qué capital debe invertirse para obtener 10.000.000 al cabo de tres años y a una tasa de interés de 20% anual?\n",
        "\n",
        "\n",
        "\n",
        "\n",
        "\n",
        "\n",
        "\n",
        "\n",
        "\n"
      ],
      "metadata": {
        "id": "NilQFn_pVIC3"
      }
    },
    {
      "cell_type": "markdown",
      "source": [],
      "metadata": {
        "id": "YDCYDbhHPS9h"
      }
    },
    {
      "cell_type": "code",
      "execution_count": 31,
      "metadata": {
        "id": "M55WXmyDIMpS",
        "colab": {
          "base_uri": "https://localhost:8080/"
        },
        "outputId": "13f2e092-961a-4142-916d-a46b937d79ab"
      },
      "outputs": [
        {
          "output_type": "stream",
          "name": "stdout",
          "text": [
            "El capital que debe invertirse es: 6250000.00\n"
          ]
        }
      ],
      "source": [
        "# Datos del problema\n",
        "A = 10000000  # Monto final (10 millones)\n",
        "r = 0.20  # Tasa de interés anual (20%)\n",
        "t = 3  # Tiempo en años (3 años)\n",
        "\n",
        "# Fórmula para calcular el capital inicial\n",
        "P = A / (1 + r * t)\n",
        "\n",
        "# Imprimir el resultado\n",
        "print(f\"El capital que debe invertirse es: {P:.2f}\")\n"
      ]
    },
    {
      "cell_type": "code",
      "source": [],
      "metadata": {
        "id": "wN8ZUOQ1A37c"
      },
      "execution_count": 16,
      "outputs": []
    }
  ]
}