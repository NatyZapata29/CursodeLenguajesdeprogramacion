{
  "nbformat": 4,
  "nbformat_minor": 0,
  "metadata": {
    "colab": {
      "provenance": [],
      "authorship_tag": "ABX9TyOuo/GmlVot78G7TqdhgMg2",
      "include_colab_link": true
    },
    "kernelspec": {
      "name": "python3",
      "display_name": "Python 3"
    },
    "language_info": {
      "name": "python"
    }
  },
  "cells": [
    {
      "cell_type": "markdown",
      "metadata": {
        "id": "view-in-github",
        "colab_type": "text"
      },
      "source": [
        "<a href=\"https://colab.research.google.com/github/NatyZapata29/CursodeLenguajesdeprogramacion/blob/main/vpn_nataliazapata.ipynb\" target=\"_parent\"><img src=\"https://colab.research.google.com/assets/colab-badge.svg\" alt=\"Open In Colab\"/></a>"
      ]
    },
    {
      "cell_type": "markdown",
      "source": [
        "#Valor presente neto\n",
        "##Explicación\n",
        "\n",
        "El VPN es una medida financiera que te permite evaluar la viabilidad de un proyecto, calculando la diferencia entre el valor presente de los flujos de caja futuros y la inversión inicial. Si el VPN es positivo, el proyecto es rentable; si es negativo, no lo es.\n",
        "\n",
        "## Fórmula del Valor Presente Neto (VPN)\n",
        "La fórmula del VPN se expresa de la siguiente manera:\n",
        "\n",
        "\n",
        "$$\n",
        "VPN = \\sum_{t=0}^{n} \\frac{C_t}{(1+r)^t} - C_0\n",
        "$$\n",
        "\n",
        "\n",
        "\n",
        "Donde\n",
        "\n",
        "*   _Ft_ es el flujo de caja en el periodo t\n",
        "*   _r_ es la tasa de descuento\n",
        "*   _C0_ es la inversión inicial\n",
        "\n",
        "#Ejercicio pratico para el calculo del VPN\n",
        "\n",
        "Suponga que una empresa está considerando un proyecto con una inversion inicial de 100 y espera recibir flujos de caja de 20 en los proximos 4 años. La tasa de descuento es del 2%\n",
        "\n"
      ],
      "metadata": {
        "id": "sdD4nWzc3Y5N"
      }
    },
    {
      "cell_type": "markdown",
      "source": [],
      "metadata": {
        "id": "cYjFDDo_5jem"
      }
    },
    {
      "cell_type": "code",
      "source": [
        "inversion_inicial=100\n",
        "flujo_año1=20\n",
        "flujo_año2=20\n",
        "flujo_año3=20\n",
        "flujo_año4=20\n",
        "flujo_año5=20\n",
        "tasa=0.02"
      ],
      "metadata": {
        "id": "JINpBBH35k3M"
      },
      "execution_count": null,
      "outputs": []
    },
    {
      "cell_type": "code",
      "source": [
        "VPN = (flujo_año1/(1+tasa)**1)+(flujo_año2/(1+tasa)**2)+(flujo_año3/(1+tasa)**3)+(flujo_año4/(1+tasa)**4)+(flujo_año5/(1+tasa)**5)-inversion_inicial\n",
        "mensaje=f\"el VPN para su inversion es de: {VPN:,.4f}\"\n",
        "print(mensaje)\n"
      ],
      "metadata": {
        "colab": {
          "base_uri": "https://localhost:8080/"
        },
        "id": "RyFRbFfo5ty0",
        "outputId": "5c26f5c0-5b99-43ed-929f-35c5c7c0b149"
      },
      "execution_count": null,
      "outputs": [
        {
          "output_type": "stream",
          "name": "stdout",
          "text": [
            "el VPN para su inversion es de: -5.7308\n"
          ]
        }
      ]
    },
    {
      "cell_type": "markdown",
      "source": [],
      "metadata": {
        "id": "P5V6NUkp553E"
      }
    },
    {
      "cell_type": "code",
      "source": [
        "print(\"Podemos conluir que\",end=\" \")\n",
        "\n",
        "if VPN > 0:\n",
        "  print(\"el proyecto es viable\")\n",
        "else:\n",
        "  print(\"el proyecto no es viable\")"
      ],
      "metadata": {
        "colab": {
          "base_uri": "https://localhost:8080/"
        },
        "id": "L9di3nPF59EE",
        "outputId": "6b090267-09c1-4616-9daa-dc5a74d0b04e"
      },
      "execution_count": null,
      "outputs": [
        {
          "output_type": "stream",
          "name": "stdout",
          "text": [
            "Podemos conluir que el proyecto no es viable\n"
          ]
        }
      ]
    }
  ]
}